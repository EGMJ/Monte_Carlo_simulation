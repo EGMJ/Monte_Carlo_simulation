{
 "cells": [
  {
   "cell_type": "code",
   "execution_count": 2,
   "metadata": {},
   "outputs": [],
   "source": [
    "import numpy\n",
    "import matplotlib.pyplot as plt\n",
    "from datetime import datetime as dt\n",
    "from pandas_datareader import data as get_data\n",
    "from numpy import linalg as LA"
   ]
  },
  {
   "cell_type": "code",
   "execution_count": null,
   "metadata": {},
   "outputs": [],
   "source": [
    "lista_de_acoes = ['PETR4','ABEV3','USIM5','BVSP', 'VALE3']\n",
    "lista_de_acoes = [acao + '.SA' for acao in lista_de_acoes]\n",
    "\n",
    "data_inicial = dt(2000,2,1)\n",
    "data_final = dt.now()\n",
    "\n",
    "precos = get_data.get_data_yahoo(lista_de_acoes, data_inicial, data_final)"
   ]
  },
  {
   "cell_type": "code",
   "execution_count": null,
   "metadata": {},
   "outputs": [],
   "source": [
    "data_final"
   ]
  },
  {
   "cell_type": "code",
   "execution_count": null,
   "metadata": {},
   "outputs": [],
   "source": [
    "retornos = precos.pct_change().dropna()\n",
    "matriz_covatiancia = retornos.cov()\n",
    "pesos_carteira = numpy.full(len(lista_de_acoes), 1/len(lista_de_acoes))\n",
    "numero_acoes = len(lista_de_acoes)"
   ]
  },
  {
   "cell_type": "code",
   "execution_count": 28,
   "metadata": {},
   "outputs": [],
   "source": [
    "numero_de_simulacoes = 10000\n",
    "dias_projetados = 252 * 3\n",
    "capital_inicial = 1000"
   ]
  },
  {
   "cell_type": "code",
   "execution_count": 43,
   "metadata": {},
   "outputs": [],
   "source": [
    "retorno_medio = retornos.mean(axis = 0).to_numpy()\n",
    "n = (dias_projetados, numero_acoes) \n",
    "matriz_retorno_medio = retorno_medio * numpy.ones(n)\n",
    "\n",
    "# retorno_medio\n"
   ]
  },
  {
   "cell_type": "code",
   "execution_count": null,
   "metadata": {},
   "outputs": [],
   "source": [
    "L = LA.cholesky(matriz_covatiancia)\n",
    "L"
   ]
  },
  {
   "cell_type": "code",
   "execution_count": null,
   "metadata": {},
   "outputs": [],
   "source": [
    "retornos_carteira = numpy.zeros([dias_projetados, numero_de_simulacoes])\n",
    "montante_final = numpy.zeros(numero_de_simulacoes)\n",
    "\n",
    "for s in range(numero_de_simulacoes):\n",
    "    Rpdf = numpy.random.normal(size=(dias_projetados, numero_de_acoes))\n",
    "    \n",
    "    retornos_sinteticos = matriz_retorno_medio + numpy.inner(Rpdf, L)\n",
    "    retornos_sinteticos = matriz_retorno_medio + numpy.inner(Rpdf, 1)\n",
    "\n",
    "    retornos_carteira[:, s] = numpy.cumprod(numpy.inner(pesos_carteira, retornos_sinteticos) + 1) * capital_inicial\n",
    "\n",
    "    montante_final[s] = retornos_carteira[-1,s]\n",
    "\n",
    "montante_final"
   ]
  },
  {
   "cell_type": "code",
   "execution_count": null,
   "metadata": {},
   "outputs": [],
   "source": [
    "plt.plot(retornos_carteira, linewidth=1)\n",
    "plt.ylabel('Dinheiro')\n",
    "plt.xlabel('Dias')\n",
    "plt.show()"
   ]
  },
  {
   "cell_type": "code",
   "execution_count": 70,
   "metadata": {},
   "outputs": [],
   "source": [
    "montante_99 = str(numpy.percentile(montante_final, 1))\n",
    "montante_95 = str(numpy.percentile(montante_final, 5))\n",
    "montante_mediano = str(numpy.percentile(montante_final, 50))\n",
    "\n",
    "cenarios_com_lucro = str((len(montante_final[montante_final > 1000])/len(montante_final)) * 100) + \"%\""
   ]
  },
  {
   "cell_type": "code",
   "execution_count": null,
   "metadata": {},
   "outputs": [],
   "source": [
    "print(f'''Ao investir R$ 1000,00 na carteira {lista_de_acoes}, podemos esperar esses resultados para os proximos 3 anos, utilizando o método de Monte Carlo com 10 mil simulações: Com 50% de probabilidade, o montante será maior que R$ {montante_mediano}. Com 95% de probabilidade, o montante será maior que R$ {montante_95}. Com 99% de probabilidade, o montante será maior que R$ {montante_99}. Em {cenarios_com_lucro} dos cenarios, foi possivel obter lucro nos proximos 3 anos.''')"
   ]
  },
  {
   "cell_type": "code",
   "execution_count": null,
   "metadata": {},
   "outputs": [],
   "source": [
    "config = dict(histtype = \"stepfilled\", alpha = 0.8, density = False, bins = 150)\n",
    "fig,ax = plt.subplots()\n",
    "ax.hist(montante_final, ** config)\n",
    "ax.xaxis.set_major_formatter('R${x:.0f}')\n",
    "plt.title('Distribuição montantes finais com simulação MC')\n",
    "plt.xlabel('Montante final (R$)')\n",
    "plt.ylabel(\"Frequencia\")\n",
    "plt.show()"
   ]
  }
 ],
 "metadata": {
  "kernelspec": {
   "display_name": "Python 3.10.8 ('Monte_Carlo': venv)",
   "language": "python",
   "name": "python3"
  },
  "language_info": {
   "codemirror_mode": {
    "name": "ipython",
    "version": 3
   },
   "file_extension": ".py",
   "mimetype": "text/x-python",
   "name": "python",
   "nbconvert_exporter": "python",
   "pygments_lexer": "ipython3",
   "version": "3.10.8"
  },
  "orig_nbformat": 4,
  "vscode": {
   "interpreter": {
    "hash": "1ec45267b5723f34816d4455748436cfadffb6e0f5f9866490ff6537f5e8c140"
   }
  }
 },
 "nbformat": 4,
 "nbformat_minor": 2
}
